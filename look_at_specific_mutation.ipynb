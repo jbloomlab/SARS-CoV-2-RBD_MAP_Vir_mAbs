{
 "cells": [
  {
   "cell_type": "markdown",
   "metadata": {},
   "source": [
    "# Utility notebook to examine variant scores for specific mutations\n",
    "\n",
    "This notebook is not part of the pipeline, but can be used if you want to inspect information abut variants containing any specific mutation.\n",
    "\n",
    "Import Python modules:"
   ]
  },
  {
   "cell_type": "code",
   "execution_count": 1,
   "metadata": {},
   "outputs": [],
   "source": [
    "import pandas as pd\n",
    "\n",
    "import yaml\n",
    "\n",
    "with open('config.yaml') as f:\n",
    "    config = yaml.safe_load(f)\n",
    "\n",
    "escape_fracs = pd.read_csv(config['escape_fracs'])\n",
    "\n",
    "escape_scores = pd.read_csv(config['escape_scores'])"
   ]
  },
  {
   "cell_type": "markdown",
   "metadata": {},
   "source": [
    "Specify the mutation and antibody / serum of interest using RBD numbering:"
   ]
  },
  {
   "cell_type": "code",
   "execution_count": 6,
   "metadata": {},
   "outputs": [],
   "source": [
    "mutation = 'G404F'\n",
    "serum = 'S2X259_59'"
   ]
  },
  {
   "cell_type": "markdown",
   "metadata": {},
   "source": [
    "Parse site and mutant out of mutation, and also get mutation in sequential 1, 2, ... RBD numbering:"
   ]
  },
  {
   "cell_type": "code",
   "execution_count": 7,
   "metadata": {},
   "outputs": [],
   "source": [
    "site = int(mutation[1: -1])\n",
    "mutant_aa = mutation[-1]\n",
    "wt_aa = mutation[0]\n",
    "\n",
    "sequential_site = site - 330\n",
    "sequential_mutation = f\"{wt_aa}{sequential_site}{mutant_aa}\""
   ]
  },
  {
   "cell_type": "markdown",
   "metadata": {},
   "source": [
    "Overall estimated escape fraction for mutation in each library and average (will be empty if no escape estimated):"
   ]
  },
  {
   "cell_type": "code",
   "execution_count": 8,
   "metadata": {},
   "outputs": [
    {
     "data": {
      "text/html": [
       "<div>\n",
       "<style scoped>\n",
       "    .dataframe tbody tr th:only-of-type {\n",
       "        vertical-align: middle;\n",
       "    }\n",
       "\n",
       "    .dataframe tbody tr th {\n",
       "        vertical-align: top;\n",
       "    }\n",
       "\n",
       "    .dataframe thead th {\n",
       "        text-align: right;\n",
       "    }\n",
       "</style>\n",
       "<table border=\"1\" class=\"dataframe\">\n",
       "  <thead>\n",
       "    <tr style=\"text-align: right;\">\n",
       "      <th></th>\n",
       "      <th>selection</th>\n",
       "      <th>library</th>\n",
       "      <th>condition</th>\n",
       "      <th>site</th>\n",
       "      <th>label_site</th>\n",
       "      <th>wildtype</th>\n",
       "      <th>mutation</th>\n",
       "      <th>protein_chain</th>\n",
       "      <th>protein_site</th>\n",
       "      <th>mut_escape_frac_epistasis_model</th>\n",
       "      <th>mut_escape_frac_single_mut</th>\n",
       "      <th>site_total_escape_frac_epistasis_model</th>\n",
       "      <th>site_total_escape_frac_single_mut</th>\n",
       "      <th>site_avg_escape_frac_epistasis_model</th>\n",
       "      <th>site_avg_escape_frac_single_mut</th>\n",
       "      <th>nlibs</th>\n",
       "    </tr>\n",
       "  </thead>\n",
       "  <tbody>\n",
       "  </tbody>\n",
       "</table>\n",
       "</div>"
      ],
      "text/plain": [
       "Empty DataFrame\n",
       "Columns: [selection, library, condition, site, label_site, wildtype, mutation, protein_chain, protein_site, mut_escape_frac_epistasis_model, mut_escape_frac_single_mut, site_total_escape_frac_epistasis_model, site_total_escape_frac_single_mut, site_avg_escape_frac_epistasis_model, site_avg_escape_frac_single_mut, nlibs]\n",
       "Index: []"
      ]
     },
     "execution_count": 8,
     "metadata": {},
     "output_type": "execute_result"
    }
   ],
   "source": [
    "(escape_fracs\n",
    " .query('protein_site == @site')\n",
    " .query('mutation == @mutant_aa')\n",
    " .query('selection == @serum')\n",
    " )"
   ]
  },
  {
   "cell_type": "markdown",
   "metadata": {},
   "source": [
    "Now here are the escape scores for all variants containing the mutation.\n",
    "Note that the mutations for the escape scores are in **sequential** (not RBD) numbering, so offset by 330.\n",
    "We show the substitutons in the variant, its escape score, its binding and expression in the DMS, and whether it passes the filters for DMS binding / expression based both on both the variant DMS value and the mutations in the variant.\n",
    "If you want to only show variants that pass these filters, uncomment the query lines to query for them:"
   ]
  },
  {
   "cell_type": "code",
   "execution_count": 9,
   "metadata": {},
   "outputs": [
    {
     "data": {
      "text/html": [
       "<div>\n",
       "<style scoped>\n",
       "    .dataframe tbody tr th:only-of-type {\n",
       "        vertical-align: middle;\n",
       "    }\n",
       "\n",
       "    .dataframe tbody tr th {\n",
       "        vertical-align: top;\n",
       "    }\n",
       "\n",
       "    .dataframe thead th {\n",
       "        text-align: right;\n",
       "    }\n",
       "</style>\n",
       "<table border=\"1\" class=\"dataframe\">\n",
       "  <thead>\n",
       "    <tr style=\"text-align: right;\">\n",
       "      <th></th>\n",
       "      <th>library</th>\n",
       "      <th>aa_substitutions</th>\n",
       "      <th>score</th>\n",
       "      <th>variant_expr</th>\n",
       "      <th>variant_bind</th>\n",
       "      <th>muts_pass_expr_filter</th>\n",
       "      <th>variant_pass_expr_filter</th>\n",
       "      <th>muts_pass_bind_filter</th>\n",
       "      <th>variant_pass_bind_filter</th>\n",
       "    </tr>\n",
       "  </thead>\n",
       "  <tbody>\n",
       "    <tr>\n",
       "      <th>4700077</th>\n",
       "      <td>lib1</td>\n",
       "      <td>G74F N110T F160G</td>\n",
       "      <td>0.4186</td>\n",
       "      <td>-2.57</td>\n",
       "      <td>-2.88</td>\n",
       "      <td>False</td>\n",
       "      <td>False</td>\n",
       "      <td>True</td>\n",
       "      <td>False</td>\n",
       "    </tr>\n",
       "    <tr>\n",
       "      <th>4792167</th>\n",
       "      <td>lib2</td>\n",
       "      <td>G74F</td>\n",
       "      <td>0.8040</td>\n",
       "      <td>-1.63</td>\n",
       "      <td>-1.81</td>\n",
       "      <td>False</td>\n",
       "      <td>False</td>\n",
       "      <td>True</td>\n",
       "      <td>True</td>\n",
       "    </tr>\n",
       "    <tr>\n",
       "      <th>4809441</th>\n",
       "      <td>lib2</td>\n",
       "      <td>G74F L131I</td>\n",
       "      <td>0.3747</td>\n",
       "      <td>-1.67</td>\n",
       "      <td>-2.08</td>\n",
       "      <td>False</td>\n",
       "      <td>False</td>\n",
       "      <td>True</td>\n",
       "      <td>True</td>\n",
       "    </tr>\n",
       "    <tr>\n",
       "      <th>4801592</th>\n",
       "      <td>lib2</td>\n",
       "      <td>F44I G74F</td>\n",
       "      <td>0.6062</td>\n",
       "      <td>-1.99</td>\n",
       "      <td>-2.39</td>\n",
       "      <td>False</td>\n",
       "      <td>False</td>\n",
       "      <td>True</td>\n",
       "      <td>False</td>\n",
       "    </tr>\n",
       "    <tr>\n",
       "      <th>4804785</th>\n",
       "      <td>lib2</td>\n",
       "      <td>A14S G74F</td>\n",
       "      <td>0.3626</td>\n",
       "      <td>-2.36</td>\n",
       "      <td>-2.15</td>\n",
       "      <td>False</td>\n",
       "      <td>False</td>\n",
       "      <td>True</td>\n",
       "      <td>True</td>\n",
       "    </tr>\n",
       "  </tbody>\n",
       "</table>\n",
       "</div>"
      ],
      "text/plain": [
       "        library  aa_substitutions   score  variant_expr  variant_bind  \\\n",
       "4700077    lib1  G74F N110T F160G  0.4186         -2.57         -2.88   \n",
       "4792167    lib2              G74F  0.8040         -1.63         -1.81   \n",
       "4809441    lib2        G74F L131I  0.3747         -1.67         -2.08   \n",
       "4801592    lib2         F44I G74F  0.6062         -1.99         -2.39   \n",
       "4804785    lib2         A14S G74F  0.3626         -2.36         -2.15   \n",
       "\n",
       "         muts_pass_expr_filter  variant_pass_expr_filter  \\\n",
       "4700077                  False                     False   \n",
       "4792167                  False                     False   \n",
       "4809441                  False                     False   \n",
       "4801592                  False                     False   \n",
       "4804785                  False                     False   \n",
       "\n",
       "         muts_pass_bind_filter  variant_pass_bind_filter  \n",
       "4700077                   True                     False  \n",
       "4792167                   True                      True  \n",
       "4809441                   True                      True  \n",
       "4801592                   True                     False  \n",
       "4804785                   True                      True  "
      ]
     },
     "execution_count": 9,
     "metadata": {},
     "output_type": "execute_result"
    }
   ],
   "source": [
    "(escape_scores\n",
    " .query('name == @serum')\n",
    " .assign(aa_substitutions=lambda x: x['aa_substitutions'].fillna(''))\n",
    " .query('aa_substitutions.str.contains(@sequential_mutation)')\n",
    " .query('pass_pre_count_filter')\n",
    "# .query('muts_pass_bind_filter')\n",
    "# .query('muts_pass_expr_filter')\n",
    "# .query('variant_pass_bind_filter')\n",
    "# .query('variant_pass_expr_filter')\n",
    " [['library', 'aa_substitutions', 'score', 'variant_expr', 'variant_bind',\n",
    "   'muts_pass_expr_filter', 'variant_pass_expr_filter', 'muts_pass_bind_filter',\n",
    "   'variant_pass_bind_filter']]\n",
    " .sort_values('variant_expr', ascending=False)\n",
    " .sort_values('library')\n",
    " )"
   ]
  },
  {
   "cell_type": "markdown",
   "metadata": {},
   "source": [
    "Finally, look at the DMS measurements for the mutation at an individual library (as well as average) level:"
   ]
  },
  {
   "cell_type": "code",
   "execution_count": 10,
   "metadata": {},
   "outputs": [
    {
     "data": {
      "text/html": [
       "<div>\n",
       "<style scoped>\n",
       "    .dataframe tbody tr th:only-of-type {\n",
       "        vertical-align: middle;\n",
       "    }\n",
       "\n",
       "    .dataframe tbody tr th {\n",
       "        vertical-align: top;\n",
       "    }\n",
       "\n",
       "    .dataframe thead th {\n",
       "        text-align: right;\n",
       "    }\n",
       "</style>\n",
       "<table border=\"1\" class=\"dataframe\">\n",
       "  <thead>\n",
       "    <tr style=\"text-align: right;\">\n",
       "      <th></th>\n",
       "      <th>site_RBD</th>\n",
       "      <th>site_SARS2</th>\n",
       "      <th>wildtype</th>\n",
       "      <th>mutant</th>\n",
       "      <th>mutation</th>\n",
       "      <th>mutation_RBD</th>\n",
       "      <th>bind_lib1</th>\n",
       "      <th>bind_lib2</th>\n",
       "      <th>bind_avg</th>\n",
       "      <th>expr_lib1</th>\n",
       "      <th>expr_lib2</th>\n",
       "      <th>expr_avg</th>\n",
       "    </tr>\n",
       "  </thead>\n",
       "  <tbody>\n",
       "    <tr>\n",
       "      <th>1537</th>\n",
       "      <td>74</td>\n",
       "      <td>404</td>\n",
       "      <td>G</td>\n",
       "      <td>F</td>\n",
       "      <td>G404F</td>\n",
       "      <td>G74F</td>\n",
       "      <td>-2.14</td>\n",
       "      <td>-1.81</td>\n",
       "      <td>-1.97</td>\n",
       "      <td>-1.96</td>\n",
       "      <td>-1.84</td>\n",
       "      <td>-1.9</td>\n",
       "    </tr>\n",
       "  </tbody>\n",
       "</table>\n",
       "</div>"
      ],
      "text/plain": [
       "      site_RBD  site_SARS2 wildtype mutant mutation mutation_RBD  bind_lib1  \\\n",
       "1537        74         404        G      F    G404F         G74F      -2.14   \n",
       "\n",
       "      bind_lib2  bind_avg  expr_lib1  expr_lib2  expr_avg  \n",
       "1537      -1.81     -1.97      -1.96      -1.84      -1.9  "
      ]
     },
     "execution_count": 10,
     "metadata": {},
     "output_type": "execute_result"
    }
   ],
   "source": [
    "(pd.read_csv(config['mut_bind_expr'])\n",
    " .query('mutation == @mutation')\n",
    " )"
   ]
  },
  {
   "cell_type": "code",
   "execution_count": null,
   "metadata": {},
   "outputs": [],
   "source": []
  }
 ],
 "metadata": {
  "kernelspec": {
   "display_name": "Python 3",
   "language": "python",
   "name": "python3"
  },
  "language_info": {
   "codemirror_mode": {
    "name": "ipython",
    "version": 3
   },
   "file_extension": ".py",
   "mimetype": "text/x-python",
   "name": "python",
   "nbconvert_exporter": "python",
   "pygments_lexer": "ipython3",
   "version": "3.7.8"
  }
 },
 "nbformat": 4,
 "nbformat_minor": 4
}
